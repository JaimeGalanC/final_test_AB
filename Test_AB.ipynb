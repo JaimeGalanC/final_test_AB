{
 "cells": [
  {
   "cell_type": "markdown",
   "id": "ec78b9e4",
   "metadata": {},
   "source": [
    "<a id='contenidos'></a>"
   ]
  },
  {
   "cell_type": "markdown",
   "id": "b31b25fd",
   "metadata": {
    "toc": true
   },
   "source": [
    "<h1>Tabla de Contenidos<span class=\"tocSkip\"></span></h1>\n",
    "<div class=\"toc\"><ul class=\"toc-item\"><li><span><a href=\"#Descripción-del-proyecto\" data-toc-modified-id=\"Descripción-del-proyecto-1\"><span class=\"toc-item-num\">1&nbsp;&nbsp;</span>Descripción del proyecto</a></span></li><li><span><a href=\"#Inicialización\" data-toc-modified-id=\"Inicialización-2\"><span class=\"toc-item-num\">2&nbsp;&nbsp;</span>Inicialización</a></span></li><li><span><a href=\"#Cargar-los-datos\" data-toc-modified-id=\"Cargar-los-datos-3\"><span class=\"toc-item-num\">3&nbsp;&nbsp;</span>Cargar los datos</a></span></li><li><span><a href=\"#Preprocesamiento-de-los-datos\" data-toc-modified-id=\"Preprocesamiento-de-los-datos-4\"><span class=\"toc-item-num\">4&nbsp;&nbsp;</span>Preprocesamiento de los datos</a></span><ul class=\"toc-item\"><li><span><a href=\"#Valores-nulos\" data-toc-modified-id=\"Valores-nulos-4.1\"><span class=\"toc-item-num\">4.1&nbsp;&nbsp;</span>Valores nulos</a></span></li><li><span><a href=\"#Valores-duplicados\" data-toc-modified-id=\"Valores-duplicados-4.2\"><span class=\"toc-item-num\">4.2&nbsp;&nbsp;</span>Valores duplicados</a></span></li></ul></li><li><span><a href=\"#Análisis-exploratorio-de-los-datos\" data-toc-modified-id=\"Análisis-exploratorio-de-los-datos-5\"><span class=\"toc-item-num\">5&nbsp;&nbsp;</span>Análisis exploratorio de los datos</a></span></li><li><span><a href=\"#Comparación-entre-el-grupo-de-control-y-el-grupo-de-prueba\" data-toc-modified-id=\"Comparación-entre-el-grupo-de-control-y-el-grupo-de-prueba-6\"><span class=\"toc-item-num\">6&nbsp;&nbsp;</span>Comparación entre el grupo de control y el grupo de prueba</a></span><ul class=\"toc-item\"><li><span><a href=\"#Prueba-t-student\" data-toc-modified-id=\"Prueba-t-student-6.1\"><span class=\"toc-item-num\">6.1&nbsp;&nbsp;</span>Prueba t-student</a></span></li><li><span><a href=\"#Prueba-Z-para-dos-proporciones\" data-toc-modified-id=\"Prueba-Z-para-dos-proporciones-6.2\"><span class=\"toc-item-num\">6.2&nbsp;&nbsp;</span>Prueba Z para dos proporciones</a></span></li></ul></li><li><span><a href=\"#Conclusiones\" data-toc-modified-id=\"Conclusiones-7\"><span class=\"toc-item-num\">7&nbsp;&nbsp;</span>Conclusiones</a></span></li></ul></div>"
   ]
  },
  {
   "cell_type": "markdown",
   "id": "18112a87-cd9b-4ac6-b11d-608c728cbaf8",
   "metadata": {},
   "source": [
    "## Descripción del proyecto  \n",
    "Hemos recibido una tarea analítica de una tienda en línea internacional. Nuestros predecesores no consiguieron completarla: lanzaron una prueba A/B y luego abandonaron. Solo dejaron las especificaciones técnicas y los resultados de las pruebas.\n",
    "\n",
    "**Descripción técnica**  \n",
    "- Nombre de la prueba: recommender_system_test\n",
    "- Grupos: А (control), B (nuevo embudo de pago)\n",
    "- Launch date: 2020-12-07\n",
    "- Fecha en la que dejaron de aceptar nuevos usuarios: 2020-12-21\n",
    "- Fecha de finalización: 2021-01-01\n",
    "- Audiencia: 15% de los nuevos usuarios de la región de la UE\n",
    "- Propósito de la prueba: probar cambios relacionados con la introducción de un sistema de recomendaciones mejorado\n",
    "- Resultado esperado: dentro de los 14 días posteriores a la inscripción, los usuarios mostrarán una mejor conversión en vistas de la página del producto (el evento product_page), instancias de agregar artículos al carrito de compras (product_card) y compras (purchase). En cada etapa del embudo product_page → product_card → purchase, habrá al menos un 10% de aumento.\n",
    "- Número previsto de participantes de la prueba: 6 000"
   ]
  },
  {
   "cell_type": "markdown",
   "id": "c9befaee-99b7-46e3-b95e-2c0065a5e1d7",
   "metadata": {},
   "source": [
    "[Volver a contenidos](#contenidos)\n",
    "## Inicialización \n",
    "En esta sección vamos a cargar las librerías para el estudio"
   ]
  },
  {
   "cell_type": "code",
   "execution_count": 52,
   "id": "c8a0c887-19eb-40d9-95a5-c47f8f902d55",
   "metadata": {},
   "outputs": [],
   "source": [
    "import pandas as pd\n",
    "import statsmodels.api as sm\n",
    "import datetime as dt\n",
    "import matplotlib.pyplot as plt\n",
    "import seaborn as sns\n",
    "import numpy as np\n",
    "from scipy import stats as st\n",
    "\n",
    "sns.set_palette(palette='tab10')"
   ]
  },
  {
   "cell_type": "markdown",
   "id": "4e0c51df-7f4a-4f07-96e7-90cbdcfbe73f",
   "metadata": {},
   "source": [
    "[Volver a contenidos](#contenidos)\n",
    "## Cargar los datos  \n",
    "En esta sección vamos a cargar el set de datos y revisar que las variables tengan el tipo de datos adecuado."
   ]
  },
  {
   "cell_type": "code",
   "execution_count": 53,
   "id": "a4b6e801-40d0-4777-93dc-0df354aeba73",
   "metadata": {
    "code_folding": []
   },
   "outputs": [],
   "source": [
    "# creamos el dataframe que contiene el calendario de eventos de marketing para 2020\n",
    "try:\n",
    "    ab_project_marketing_event_us=pd.read_csv('ab_project_marketing_event_us.csv',sep=',',parse_dates=['start_dt','finish_dt'])\n",
    "except:\n",
    "    ab_project_marketing_event_us=pd.read_csv('/datasets/ab_project_marketing_events_us.csv',sep=',',\\\n",
    "                                              parse_dates=['start_dt','finish_dt'])"
   ]
  },
  {
   "cell_type": "code",
   "execution_count": 54,
   "id": "56d9f52a",
   "metadata": {},
   "outputs": [],
   "source": [
    "\"\"\"creamos el dataframe que contiene los datos de los usuarios que se registraron en la tienda\n",
    "en línea desde el 7 hasta el 21 de diciembre de 2020\"\"\"\n",
    "try:\n",
    "    final_ab_new_users_upd_us=pd.read_csv('final_ab_new_users_upd_us.csv',sep=',',parse_dates=['first_date'])\n",
    "except:\n",
    "    final_ab_new_users_upd_us=pd.read_csv('/datasets/final_ab_new_users_upd_us.csv',sep=',',parse_dates=['first_date'])"
   ]
  },
  {
   "cell_type": "code",
   "execution_count": 55,
   "id": "e11b8d77",
   "metadata": {},
   "outputs": [],
   "source": [
    "\"\"\"creamos el dataframe que contiene los eventos de los nuevos usuarios en el período comprendido entre el 7 de\n",
    "diciembre de 2020 y el 1 de enero de 2021\"\"\"\n",
    "try:\n",
    "    final_ab_events_upd_us=pd.read_csv('final_ab_events_upd_us.csv',sep=',',parse_dates=['event_dt'])\n",
    "except:\n",
    "    final_ab_events_upd_us=pd.read_csv('/datasets/final_ab_events_upd_us.csv',sep=',',parse_dates=['event_dt'])"
   ]
  },
  {
   "cell_type": "code",
   "execution_count": 56,
   "id": "fb162f26",
   "metadata": {},
   "outputs": [],
   "source": [
    "\"\"\"creamos el dataframe que contiene los datos de los participantes de la prueba\"\"\"\n",
    "try:\n",
    "    final_ab_participants_upd_us=pd.read_csv('final_ab_participants_upd_us.csv',sep=',')\n",
    "except:\n",
    "    final_ab_participants_upd_us=pd.read_csv('/datasets/final_ab_participants_upd_us.csv',sep=',')"
   ]
  },
  {
   "cell_type": "code",
   "execution_count": 57,
   "id": "d240829c-0833-4186-8c7a-535506171940",
   "metadata": {},
   "outputs": [
    {
     "name": "stdout",
     "output_type": "stream",
     "text": [
      "<class 'pandas.core.frame.DataFrame'>\n",
      "RangeIndex: 14 entries, 0 to 13\n",
      "Data columns (total 4 columns):\n",
      " #   Column     Non-Null Count  Dtype         \n",
      "---  ------     --------------  -----         \n",
      " 0   name       14 non-null     object        \n",
      " 1   regions    14 non-null     object        \n",
      " 2   start_dt   14 non-null     datetime64[ns]\n",
      " 3   finish_dt  14 non-null     datetime64[ns]\n",
      "dtypes: datetime64[ns](2), object(2)\n",
      "memory usage: 576.0+ bytes\n"
     ]
    }
   ],
   "source": [
    "# mostramos información general del calendario de eventos\n",
    "ab_project_marketing_event_us.info()"
   ]
  },
  {
   "cell_type": "code",
   "execution_count": 58,
   "id": "13ed39b5-d9c1-4c98-ab4e-6474c720809a",
   "metadata": {},
   "outputs": [
    {
     "data": {
      "text/html": [
       "<div>\n",
       "<style scoped>\n",
       "    .dataframe tbody tr th:only-of-type {\n",
       "        vertical-align: middle;\n",
       "    }\n",
       "\n",
       "    .dataframe tbody tr th {\n",
       "        vertical-align: top;\n",
       "    }\n",
       "\n",
       "    .dataframe thead th {\n",
       "        text-align: right;\n",
       "    }\n",
       "</style>\n",
       "<table border=\"1\" class=\"dataframe\">\n",
       "  <thead>\n",
       "    <tr style=\"text-align: right;\">\n",
       "      <th></th>\n",
       "      <th>name</th>\n",
       "      <th>regions</th>\n",
       "      <th>start_dt</th>\n",
       "      <th>finish_dt</th>\n",
       "    </tr>\n",
       "  </thead>\n",
       "  <tbody>\n",
       "    <tr>\n",
       "      <th>0</th>\n",
       "      <td>Christmas&amp;New Year Promo</td>\n",
       "      <td>EU, N.America</td>\n",
       "      <td>2020-12-25</td>\n",
       "      <td>2021-01-03</td>\n",
       "    </tr>\n",
       "    <tr>\n",
       "      <th>1</th>\n",
       "      <td>St. Valentine's Day Giveaway</td>\n",
       "      <td>EU, CIS, APAC, N.America</td>\n",
       "      <td>2020-02-14</td>\n",
       "      <td>2020-02-16</td>\n",
       "    </tr>\n",
       "    <tr>\n",
       "      <th>2</th>\n",
       "      <td>St. Patric's Day Promo</td>\n",
       "      <td>EU, N.America</td>\n",
       "      <td>2020-03-17</td>\n",
       "      <td>2020-03-19</td>\n",
       "    </tr>\n",
       "    <tr>\n",
       "      <th>3</th>\n",
       "      <td>Easter Promo</td>\n",
       "      <td>EU, CIS, APAC, N.America</td>\n",
       "      <td>2020-04-12</td>\n",
       "      <td>2020-04-19</td>\n",
       "    </tr>\n",
       "    <tr>\n",
       "      <th>4</th>\n",
       "      <td>4th of July Promo</td>\n",
       "      <td>N.America</td>\n",
       "      <td>2020-07-04</td>\n",
       "      <td>2020-07-11</td>\n",
       "    </tr>\n",
       "  </tbody>\n",
       "</table>\n",
       "</div>"
      ],
      "text/plain": [
       "                           name                   regions   start_dt  \\\n",
       "0      Christmas&New Year Promo             EU, N.America 2020-12-25   \n",
       "1  St. Valentine's Day Giveaway  EU, CIS, APAC, N.America 2020-02-14   \n",
       "2        St. Patric's Day Promo             EU, N.America 2020-03-17   \n",
       "3                  Easter Promo  EU, CIS, APAC, N.America 2020-04-12   \n",
       "4             4th of July Promo                 N.America 2020-07-04   \n",
       "\n",
       "   finish_dt  \n",
       "0 2021-01-03  \n",
       "1 2020-02-16  \n",
       "2 2020-03-19  \n",
       "3 2020-04-19  \n",
       "4 2020-07-11  "
      ]
     },
     "execution_count": 58,
     "metadata": {},
     "output_type": "execute_result"
    }
   ],
   "source": [
    "# mostramos parte del calendario de eventos\n",
    "ab_project_marketing_event_us.head()"
   ]
  },
  {
   "cell_type": "markdown",
   "id": "3fcaddb5-5a6b-469f-b400-8e9a4e4db038",
   "metadata": {},
   "source": [
    "---\n",
    "Estructura ab_project_marketing_events_us.csv:\n",
    "- name: el nombre del evento de marketing\n",
    "- regions: regiones donde se llevará a cabo la campaña publicitaria\n",
    "- start_dt: fecha de inicio de la campaña\n",
    "- finish_dt: fecha de finalización de la campaña"
   ]
  },
  {
   "cell_type": "code",
   "execution_count": 59,
   "id": "f7b5804f-acbf-4120-9f94-ba2596356114",
   "metadata": {},
   "outputs": [
    {
     "name": "stdout",
     "output_type": "stream",
     "text": [
      "<class 'pandas.core.frame.DataFrame'>\n",
      "RangeIndex: 58703 entries, 0 to 58702\n",
      "Data columns (total 4 columns):\n",
      " #   Column      Non-Null Count  Dtype         \n",
      "---  ------      --------------  -----         \n",
      " 0   user_id     58703 non-null  object        \n",
      " 1   first_date  58703 non-null  datetime64[ns]\n",
      " 2   region      58703 non-null  object        \n",
      " 3   device      58703 non-null  object        \n",
      "dtypes: datetime64[ns](1), object(3)\n",
      "memory usage: 1.8+ MB\n"
     ]
    }
   ],
   "source": [
    "# mostramos información general de los usuarios registrados\n",
    "final_ab_new_users_upd_us.info()"
   ]
  },
  {
   "cell_type": "code",
   "execution_count": 60,
   "id": "b6d71026-090f-4827-a1b1-c7229629a18e",
   "metadata": {},
   "outputs": [
    {
     "data": {
      "text/html": [
       "<div>\n",
       "<style scoped>\n",
       "    .dataframe tbody tr th:only-of-type {\n",
       "        vertical-align: middle;\n",
       "    }\n",
       "\n",
       "    .dataframe tbody tr th {\n",
       "        vertical-align: top;\n",
       "    }\n",
       "\n",
       "    .dataframe thead th {\n",
       "        text-align: right;\n",
       "    }\n",
       "</style>\n",
       "<table border=\"1\" class=\"dataframe\">\n",
       "  <thead>\n",
       "    <tr style=\"text-align: right;\">\n",
       "      <th></th>\n",
       "      <th>user_id</th>\n",
       "      <th>first_date</th>\n",
       "      <th>region</th>\n",
       "      <th>device</th>\n",
       "    </tr>\n",
       "  </thead>\n",
       "  <tbody>\n",
       "    <tr>\n",
       "      <th>0</th>\n",
       "      <td>D72A72121175D8BE</td>\n",
       "      <td>2020-12-07</td>\n",
       "      <td>EU</td>\n",
       "      <td>PC</td>\n",
       "    </tr>\n",
       "    <tr>\n",
       "      <th>1</th>\n",
       "      <td>F1C668619DFE6E65</td>\n",
       "      <td>2020-12-07</td>\n",
       "      <td>N.America</td>\n",
       "      <td>Android</td>\n",
       "    </tr>\n",
       "    <tr>\n",
       "      <th>2</th>\n",
       "      <td>2E1BF1D4C37EA01F</td>\n",
       "      <td>2020-12-07</td>\n",
       "      <td>EU</td>\n",
       "      <td>PC</td>\n",
       "    </tr>\n",
       "    <tr>\n",
       "      <th>3</th>\n",
       "      <td>50734A22C0C63768</td>\n",
       "      <td>2020-12-07</td>\n",
       "      <td>EU</td>\n",
       "      <td>iPhone</td>\n",
       "    </tr>\n",
       "    <tr>\n",
       "      <th>4</th>\n",
       "      <td>E1BDDCE0DAFA2679</td>\n",
       "      <td>2020-12-07</td>\n",
       "      <td>N.America</td>\n",
       "      <td>iPhone</td>\n",
       "    </tr>\n",
       "  </tbody>\n",
       "</table>\n",
       "</div>"
      ],
      "text/plain": [
       "            user_id first_date     region   device\n",
       "0  D72A72121175D8BE 2020-12-07         EU       PC\n",
       "1  F1C668619DFE6E65 2020-12-07  N.America  Android\n",
       "2  2E1BF1D4C37EA01F 2020-12-07         EU       PC\n",
       "3  50734A22C0C63768 2020-12-07         EU   iPhone\n",
       "4  E1BDDCE0DAFA2679 2020-12-07  N.America   iPhone"
      ]
     },
     "execution_count": 60,
     "metadata": {},
     "output_type": "execute_result"
    }
   ],
   "source": [
    "# mostramos parte de los usuarios registrados\n",
    "final_ab_new_users_upd_us.head()"
   ]
  },
  {
   "cell_type": "markdown",
   "id": "4277e611-8a1c-4e28-80d6-42a56084618d",
   "metadata": {},
   "source": [
    "---\n",
    "Estructura final_ab_new_users_upd_us.csv:\n",
    "- user_id\n",
    "- first_date: fecha de inscripción\n",
    "- region\n",
    "- device: dispositivo utilizado para la inscripción"
   ]
  },
  {
   "cell_type": "code",
   "execution_count": 61,
   "id": "ab99e621-db73-4156-8685-6b95c338945e",
   "metadata": {},
   "outputs": [
    {
     "name": "stdout",
     "output_type": "stream",
     "text": [
      "<class 'pandas.core.frame.DataFrame'>\n",
      "RangeIndex: 423761 entries, 0 to 423760\n",
      "Data columns (total 4 columns):\n",
      " #   Column      Non-Null Count   Dtype         \n",
      "---  ------      --------------   -----         \n",
      " 0   user_id     423761 non-null  object        \n",
      " 1   event_dt    423761 non-null  datetime64[ns]\n",
      " 2   event_name  423761 non-null  object        \n",
      " 3   details     60314 non-null   float64       \n",
      "dtypes: datetime64[ns](1), float64(1), object(2)\n",
      "memory usage: 12.9+ MB\n"
     ]
    }
   ],
   "source": [
    "# mostramos información general de los eventos de los usuarios\n",
    "final_ab_events_upd_us.info()"
   ]
  },
  {
   "cell_type": "code",
   "execution_count": 62,
   "id": "6301bbe7-76d6-4abb-85cb-b9a64dd68436",
   "metadata": {},
   "outputs": [
    {
     "data": {
      "text/html": [
       "<div>\n",
       "<style scoped>\n",
       "    .dataframe tbody tr th:only-of-type {\n",
       "        vertical-align: middle;\n",
       "    }\n",
       "\n",
       "    .dataframe tbody tr th {\n",
       "        vertical-align: top;\n",
       "    }\n",
       "\n",
       "    .dataframe thead th {\n",
       "        text-align: right;\n",
       "    }\n",
       "</style>\n",
       "<table border=\"1\" class=\"dataframe\">\n",
       "  <thead>\n",
       "    <tr style=\"text-align: right;\">\n",
       "      <th></th>\n",
       "      <th>user_id</th>\n",
       "      <th>event_dt</th>\n",
       "      <th>event_name</th>\n",
       "      <th>details</th>\n",
       "    </tr>\n",
       "  </thead>\n",
       "  <tbody>\n",
       "    <tr>\n",
       "      <th>0</th>\n",
       "      <td>E1BDDCE0DAFA2679</td>\n",
       "      <td>2020-12-07 20:22:03</td>\n",
       "      <td>purchase</td>\n",
       "      <td>99.99</td>\n",
       "    </tr>\n",
       "    <tr>\n",
       "      <th>1</th>\n",
       "      <td>7B6452F081F49504</td>\n",
       "      <td>2020-12-07 09:22:53</td>\n",
       "      <td>purchase</td>\n",
       "      <td>9.99</td>\n",
       "    </tr>\n",
       "    <tr>\n",
       "      <th>2</th>\n",
       "      <td>9CD9F34546DF254C</td>\n",
       "      <td>2020-12-07 12:59:29</td>\n",
       "      <td>purchase</td>\n",
       "      <td>4.99</td>\n",
       "    </tr>\n",
       "    <tr>\n",
       "      <th>3</th>\n",
       "      <td>96F27A054B191457</td>\n",
       "      <td>2020-12-07 04:02:40</td>\n",
       "      <td>purchase</td>\n",
       "      <td>4.99</td>\n",
       "    </tr>\n",
       "    <tr>\n",
       "      <th>4</th>\n",
       "      <td>1FD7660FDF94CA1F</td>\n",
       "      <td>2020-12-07 10:15:09</td>\n",
       "      <td>purchase</td>\n",
       "      <td>4.99</td>\n",
       "    </tr>\n",
       "  </tbody>\n",
       "</table>\n",
       "</div>"
      ],
      "text/plain": [
       "            user_id            event_dt event_name  details\n",
       "0  E1BDDCE0DAFA2679 2020-12-07 20:22:03   purchase    99.99\n",
       "1  7B6452F081F49504 2020-12-07 09:22:53   purchase     9.99\n",
       "2  9CD9F34546DF254C 2020-12-07 12:59:29   purchase     4.99\n",
       "3  96F27A054B191457 2020-12-07 04:02:40   purchase     4.99\n",
       "4  1FD7660FDF94CA1F 2020-12-07 10:15:09   purchase     4.99"
      ]
     },
     "execution_count": 62,
     "metadata": {},
     "output_type": "execute_result"
    }
   ],
   "source": [
    "# mostramos parte de los eventos de los usuarios\n",
    "final_ab_events_upd_us.head()"
   ]
  },
  {
   "cell_type": "markdown",
   "id": "ad8ab9bd-c76f-43fe-9ca1-aecc8d1b4af7",
   "metadata": {},
   "source": [
    "---\n",
    "Estructura final_ab_events_upd_us.csv:\n",
    "- user_id\n",
    "- event_dt: fecha y hora del evento\n",
    "- event_name: nombre del tipo de evento\n",
    "- details: datos adicionales sobre el evento (por ejemplo, el pedido total en USD para los eventos purchase)"
   ]
  },
  {
   "cell_type": "code",
   "execution_count": 63,
   "id": "0dd445ad-5b74-4f79-a4af-0d1baf3a40dc",
   "metadata": {},
   "outputs": [
    {
     "name": "stdout",
     "output_type": "stream",
     "text": [
      "<class 'pandas.core.frame.DataFrame'>\n",
      "RangeIndex: 14525 entries, 0 to 14524\n",
      "Data columns (total 3 columns):\n",
      " #   Column   Non-Null Count  Dtype \n",
      "---  ------   --------------  ----- \n",
      " 0   user_id  14525 non-null  object\n",
      " 1   group    14525 non-null  object\n",
      " 2   ab_test  14525 non-null  object\n",
      "dtypes: object(3)\n",
      "memory usage: 340.6+ KB\n"
     ]
    }
   ],
   "source": [
    "# mostramos información general de los participantes de la prueba\n",
    "final_ab_participants_upd_us.info()"
   ]
  },
  {
   "cell_type": "code",
   "execution_count": 64,
   "id": "836d2057",
   "metadata": {},
   "outputs": [
    {
     "data": {
      "text/html": [
       "<div>\n",
       "<style scoped>\n",
       "    .dataframe tbody tr th:only-of-type {\n",
       "        vertical-align: middle;\n",
       "    }\n",
       "\n",
       "    .dataframe tbody tr th {\n",
       "        vertical-align: top;\n",
       "    }\n",
       "\n",
       "    .dataframe thead th {\n",
       "        text-align: right;\n",
       "    }\n",
       "</style>\n",
       "<table border=\"1\" class=\"dataframe\">\n",
       "  <thead>\n",
       "    <tr style=\"text-align: right;\">\n",
       "      <th></th>\n",
       "      <th>user_id</th>\n",
       "      <th>group</th>\n",
       "      <th>ab_test</th>\n",
       "    </tr>\n",
       "  </thead>\n",
       "  <tbody>\n",
       "    <tr>\n",
       "      <th>0</th>\n",
       "      <td>D1ABA3E2887B6A73</td>\n",
       "      <td>A</td>\n",
       "      <td>recommender_system_test</td>\n",
       "    </tr>\n",
       "    <tr>\n",
       "      <th>1</th>\n",
       "      <td>A7A3664BD6242119</td>\n",
       "      <td>A</td>\n",
       "      <td>recommender_system_test</td>\n",
       "    </tr>\n",
       "    <tr>\n",
       "      <th>2</th>\n",
       "      <td>DABC14FDDFADD29E</td>\n",
       "      <td>A</td>\n",
       "      <td>recommender_system_test</td>\n",
       "    </tr>\n",
       "    <tr>\n",
       "      <th>3</th>\n",
       "      <td>04988C5DF189632E</td>\n",
       "      <td>A</td>\n",
       "      <td>recommender_system_test</td>\n",
       "    </tr>\n",
       "    <tr>\n",
       "      <th>4</th>\n",
       "      <td>4FF2998A348C484F</td>\n",
       "      <td>A</td>\n",
       "      <td>recommender_system_test</td>\n",
       "    </tr>\n",
       "  </tbody>\n",
       "</table>\n",
       "</div>"
      ],
      "text/plain": [
       "            user_id group                  ab_test\n",
       "0  D1ABA3E2887B6A73     A  recommender_system_test\n",
       "1  A7A3664BD6242119     A  recommender_system_test\n",
       "2  DABC14FDDFADD29E     A  recommender_system_test\n",
       "3  04988C5DF189632E     A  recommender_system_test\n",
       "4  4FF2998A348C484F     A  recommender_system_test"
      ]
     },
     "execution_count": 64,
     "metadata": {},
     "output_type": "execute_result"
    }
   ],
   "source": [
    "# mostramos parte de los participantes de la prueba\n",
    "final_ab_participants_upd_us.head()"
   ]
  },
  {
   "cell_type": "markdown",
   "id": "03af3d7f-edec-4aea-b4d7-6ca5e23c5781",
   "metadata": {},
   "source": [
    "---\n",
    "Estructura final_ab_participants_upd_us.csv:\n",
    "- user_id\n",
    "- ab_test: nombre de la prueba\n",
    "- group: el grupo de prueba al que pertenecía el usuario"
   ]
  },
  {
   "cell_type": "markdown",
   "id": "290a10cb-44a6-47e5-a1a6-910cc7a2f08f",
   "metadata": {},
   "source": [
    "[Volver a contenidos](#contenidos)\n",
    "## Preprocesamiento de los datos"
   ]
  },
  {
   "cell_type": "markdown",
   "id": "302f3cd6-c0c6-4066-a1c5-9b5a62b529c8",
   "metadata": {},
   "source": [
    "Observamos que los nombres de las columnas están escritas correctamente empleando **snake_case** y que el tipo de datos es correcto."
   ]
  },
  {
   "cell_type": "markdown",
   "id": "0bec9a6a-b0f9-4d97-9dcf-5deac4e2359c",
   "metadata": {},
   "source": [
    "### Valores nulos"
   ]
  },
  {
   "cell_type": "markdown",
   "id": "4e66fce1-1af1-4346-945b-4dc473fe376e",
   "metadata": {},
   "source": [
    "Para el caso de valores nulos, notamos que solo el dataframe `'final_ab_events_upd_us'` que contiene los datos de los eventos de los usuarios tiene valores nulos."
   ]
  },
  {
   "cell_type": "code",
   "execution_count": 65,
   "id": "3643f24d-3d68-494d-b136-b8d7ef01435c",
   "metadata": {},
   "outputs": [
    {
     "name": "stdout",
     "output_type": "stream",
     "text": [
      "<class 'pandas.core.frame.DataFrame'>\n",
      "RangeIndex: 423761 entries, 0 to 423760\n",
      "Data columns (total 4 columns):\n",
      " #   Column      Non-Null Count   Dtype         \n",
      "---  ------      --------------   -----         \n",
      " 0   user_id     423761 non-null  object        \n",
      " 1   event_dt    423761 non-null  datetime64[ns]\n",
      " 2   event_name  423761 non-null  object        \n",
      " 3   details     60314 non-null   float64       \n",
      "dtypes: datetime64[ns](1), float64(1), object(2)\n",
      "memory usage: 12.9+ MB\n"
     ]
    }
   ],
   "source": [
    "# buscamos los valores nulos en el dataframe de los eventos de los usuarios\n",
    "final_ab_events_upd_us.info()"
   ]
  },
  {
   "cell_type": "code",
   "execution_count": 66,
   "id": "75c8fedd-db4d-4733-9b10-d57d5b4e6bc2",
   "metadata": {},
   "outputs": [
    {
     "data": {
      "text/plain": [
       "event_name\n",
       "login               0\n",
       "product_cart        0\n",
       "product_page        0\n",
       "purchase        60314\n",
       "Name: details, dtype: int64"
      ]
     },
     "execution_count": 66,
     "metadata": {},
     "output_type": "execute_result"
    }
   ],
   "source": [
    "# buscamos los eventos en los cuales hay valores nulos\n",
    "final_ab_events_upd_us.groupby('event_name')['details'].count()"
   ]
  },
  {
   "cell_type": "markdown",
   "id": "48e2274a-75c9-41f4-b776-8b3e92d6c052",
   "metadata": {},
   "source": [
    "Notamos que los valores no nulos en `'details'` pertenecen al evento `'purchase'`, es decir; no tenemos valores nulos para las compras hechas. Por lo que al parecer no tenemos problemas en los datos."
   ]
  },
  {
   "cell_type": "markdown",
   "id": "723321ec-14d7-4fd2-8853-7b353998940b",
   "metadata": {},
   "source": [
    "### Valores duplicados  \n",
    "Revisamos si tenemos registros duplicados en cada uno de los dataframes."
   ]
  },
  {
   "cell_type": "code",
   "execution_count": 67,
   "id": "fad957c4-691e-448e-9b79-428c1695a68c",
   "metadata": {},
   "outputs": [
    {
     "data": {
      "text/plain": [
       "0"
      ]
     },
     "execution_count": 67,
     "metadata": {},
     "output_type": "execute_result"
    }
   ],
   "source": [
    "# revisamos valores duplicados en el calendario de eventos\n",
    "ab_project_marketing_event_us.duplicated().sum()"
   ]
  },
  {
   "cell_type": "code",
   "execution_count": 68,
   "id": "96f3e5e5-c23c-45d9-95f6-06f6e70edb2f",
   "metadata": {},
   "outputs": [
    {
     "data": {
      "text/plain": [
       "0"
      ]
     },
     "execution_count": 68,
     "metadata": {},
     "output_type": "execute_result"
    }
   ],
   "source": [
    "# revisamos valores duplicados en el dataframe de usuarios registrados\n",
    "final_ab_new_users_upd_us.duplicated().sum()"
   ]
  },
  {
   "cell_type": "code",
   "execution_count": 69,
   "id": "96db7ad5-3a3c-4454-bcf5-7bf8e836b64a",
   "metadata": {},
   "outputs": [
    {
     "data": {
      "text/plain": [
       "0"
      ]
     },
     "execution_count": 69,
     "metadata": {},
     "output_type": "execute_result"
    }
   ],
   "source": [
    "# revisamos valores duplicados en el dataframe de los eventos de los usuarios\n",
    "final_ab_events_upd_us.duplicated().sum()"
   ]
  },
  {
   "cell_type": "code",
   "execution_count": 70,
   "id": "3f5fb636-0cc7-422a-b95b-4d4a3a05adeb",
   "metadata": {},
   "outputs": [
    {
     "data": {
      "text/plain": [
       "0"
      ]
     },
     "execution_count": 70,
     "metadata": {},
     "output_type": "execute_result"
    }
   ],
   "source": [
    "# revisamos valores duplicados en el dataframe de los participantes en la prueba\n",
    "final_ab_participants_upd_us.duplicated().sum()"
   ]
  },
  {
   "cell_type": "markdown",
   "id": "c022579c-8c9c-4e86-9856-077e488230f7",
   "metadata": {},
   "source": [
    "**No tenemos valores faltantes ni duplicados en los set de datos.** Antes de proceder al análisis exploratorio de los datos vamos a unir los dataframes para poder realizar los análisis posteriores."
   ]
  },
  {
   "cell_type": "code",
   "execution_count": 71,
   "id": "44cbedc8-9260-4219-a091-62f56f1ff2ce",
   "metadata": {},
   "outputs": [
    {
     "data": {
      "text/plain": [
       "(423761, 5)"
      ]
     },
     "execution_count": 71,
     "metadata": {},
     "output_type": "execute_result"
    }
   ],
   "source": [
    "# para unir el dataframe de eventos del usuario con el calendario de eventos necesitamos crear una columna con la fecha de 'event_dt'\n",
    "final_ab_events_upd_us['event_date']=final_ab_events_upd_us['event_dt'].values.astype('datetime64[D]')\n",
    "final_ab_events_upd_us.shape"
   ]
  },
  {
   "cell_type": "code",
   "execution_count": 72,
   "id": "b2d1b4a3-ae27-4ef6-b5c3-e4472cbc47a9",
   "metadata": {},
   "outputs": [
    {
     "data": {
      "text/plain": [
       "(423761, 9)"
      ]
     },
     "execution_count": 72,
     "metadata": {},
     "output_type": "execute_result"
    }
   ],
   "source": [
    "# unimos los eventos de los usuarios con su fecha correspondiente en el calendario de eventos \n",
    "ab_users_events=final_ab_events_upd_us.merge(ab_project_marketing_event_us,left_on='event_date',right_on='start_dt',how='left')\n",
    "ab_users_events.shape"
   ]
  },
  {
   "cell_type": "markdown",
   "id": "7170a034-3233-4f23-a5ef-7498e09ebd38",
   "metadata": {},
   "source": [
    "Tenemos ahora asociado para cada evento el nombre del evento en el calendario. Unamos ahora el registro de usuarios con los datos de los participantes en la prueba."
   ]
  },
  {
   "cell_type": "code",
   "execution_count": 73,
   "id": "702df06d-c081-40eb-a406-197667d254d4",
   "metadata": {},
   "outputs": [
    {
     "data": {
      "text/plain": [
       "(14525, 6)"
      ]
     },
     "execution_count": 73,
     "metadata": {},
     "output_type": "execute_result"
    }
   ],
   "source": [
    "# creamos un dataframe que contenga los usuarios que se registraron y participaron en la prueba\n",
    "# unimos para cada registro de usuario su participacion en la prueba, unimos usando el 'user_id'\n",
    "ab_users_groups=final_ab_new_users_upd_us.merge(final_ab_participants_upd_us,on='user_id',how='inner')\n",
    "ab_users_groups.shape"
   ]
  },
  {
   "cell_type": "code",
   "execution_count": 74,
   "id": "083b5c37-b602-4d83-939a-19e0919e3b3b",
   "metadata": {},
   "outputs": [
    {
     "data": {
      "text/plain": [
       "ab_test                  group\n",
       "interface_eu_test        A        5467\n",
       "                         B        5383\n",
       "recommender_system_test  A        2747\n",
       "                         B         928\n",
       "Name: group, dtype: int64"
      ]
     },
     "execution_count": 74,
     "metadata": {},
     "output_type": "execute_result"
    }
   ],
   "source": [
    "# agrupamos por la columna 'ab_test'\n",
    "ab_users_groups.groupby('ab_test')['group'].value_counts()"
   ]
  },
  {
   "cell_type": "markdown",
   "id": "b0951b28-c62f-4d80-ac19-1ddc3fae6d20",
   "metadata": {},
   "source": [
    "Notamos que tenemos dos tipos de pruebas registradas, estamos interesados solo en la prueba `'recommender_system_test'`. En esta prueba tenemos dos grupos, el grupo A con 2,747 participantes y el grupo B con 928."
   ]
  },
  {
   "cell_type": "markdown",
   "id": "50f6fff5",
   "metadata": {},
   "source": [
    "Revisemos que ningún participante de la prueba `interface_eu_test` haya participado en la prueba `recommender_system_test`."
   ]
  },
  {
   "cell_type": "code",
   "execution_count": 75,
   "id": "73b36edb",
   "metadata": {},
   "outputs": [],
   "source": [
    "# obtenemos la lista de participantes en la prueba 'interface_eu_test'\n",
    "list_users_interface=ab_users_groups[ab_users_groups['ab_test']=='interface_eu_test']['user_id'].unique()"
   ]
  },
  {
   "cell_type": "code",
   "execution_count": 76,
   "id": "34bf170d",
   "metadata": {},
   "outputs": [],
   "source": [
    "# obtenemos la lista de participantes en la prueba 'recommender_system_test'\n",
    "list_users_system=ab_users_groups[ab_users_groups['ab_test']=='recommender_system_test']['user_id'].unique()"
   ]
  },
  {
   "cell_type": "code",
   "execution_count": 77,
   "id": "6c8868a2",
   "metadata": {},
   "outputs": [
    {
     "name": "stdout",
     "output_type": "stream",
     "text": [
      "Hay 887 usuarios que aparecen en ambas pruebas.\n"
     ]
    }
   ],
   "source": [
    "\"\"\"creamos dos conjuntos con los 'user_id' de cada grupo y buscamos su intersección para ver los usuarios que\n",
    "aparecen en ambas pruebas\"\"\"\n",
    "\n",
    "set1 = set(list_users_interface)\n",
    "set2 = set(list_users_system)\n",
    "\n",
    "set3 = set1 & set2\n",
    "\n",
    "# usuarios en ambas pruebas\n",
    "list_users_intersec = list(set3)\n",
    "print(f'Hay {len(list_users_intersec)} usuarios que aparecen en ambas pruebas.')"
   ]
  },
  {
   "cell_type": "code",
   "execution_count": 78,
   "id": "daa4ab41",
   "metadata": {},
   "outputs": [
    {
     "data": {
      "text/html": [
       "<div>\n",
       "<style scoped>\n",
       "    .dataframe tbody tr th:only-of-type {\n",
       "        vertical-align: middle;\n",
       "    }\n",
       "\n",
       "    .dataframe tbody tr th {\n",
       "        vertical-align: top;\n",
       "    }\n",
       "\n",
       "    .dataframe thead th {\n",
       "        text-align: right;\n",
       "    }\n",
       "</style>\n",
       "<table border=\"1\" class=\"dataframe\">\n",
       "  <thead>\n",
       "    <tr style=\"text-align: right;\">\n",
       "      <th></th>\n",
       "      <th>user_id</th>\n",
       "      <th>first_date</th>\n",
       "      <th>region</th>\n",
       "      <th>device</th>\n",
       "      <th>group</th>\n",
       "      <th>ab_test</th>\n",
       "    </tr>\n",
       "  </thead>\n",
       "  <tbody>\n",
       "    <tr>\n",
       "      <th>13995</th>\n",
       "      <td>001064FEAAB631A1</td>\n",
       "      <td>2020-12-20</td>\n",
       "      <td>EU</td>\n",
       "      <td>Android</td>\n",
       "      <td>B</td>\n",
       "      <td>recommender_system_test</td>\n",
       "    </tr>\n",
       "    <tr>\n",
       "      <th>13996</th>\n",
       "      <td>001064FEAAB631A1</td>\n",
       "      <td>2020-12-20</td>\n",
       "      <td>EU</td>\n",
       "      <td>Android</td>\n",
       "      <td>B</td>\n",
       "      <td>interface_eu_test</td>\n",
       "    </tr>\n",
       "    <tr>\n",
       "      <th>3431</th>\n",
       "      <td>00341D8401F0F665</td>\n",
       "      <td>2020-12-21</td>\n",
       "      <td>EU</td>\n",
       "      <td>iPhone</td>\n",
       "      <td>A</td>\n",
       "      <td>recommender_system_test</td>\n",
       "    </tr>\n",
       "    <tr>\n",
       "      <th>3432</th>\n",
       "      <td>00341D8401F0F665</td>\n",
       "      <td>2020-12-21</td>\n",
       "      <td>EU</td>\n",
       "      <td>iPhone</td>\n",
       "      <td>A</td>\n",
       "      <td>interface_eu_test</td>\n",
       "    </tr>\n",
       "    <tr>\n",
       "      <th>7589</th>\n",
       "      <td>0082295A41A867B5</td>\n",
       "      <td>2020-12-16</td>\n",
       "      <td>EU</td>\n",
       "      <td>iPhone</td>\n",
       "      <td>A</td>\n",
       "      <td>recommender_system_test</td>\n",
       "    </tr>\n",
       "    <tr>\n",
       "      <th>7590</th>\n",
       "      <td>0082295A41A867B5</td>\n",
       "      <td>2020-12-16</td>\n",
       "      <td>EU</td>\n",
       "      <td>iPhone</td>\n",
       "      <td>B</td>\n",
       "      <td>interface_eu_test</td>\n",
       "    </tr>\n",
       "    <tr>\n",
       "      <th>10520</th>\n",
       "      <td>00E68F103C66C1F7</td>\n",
       "      <td>2020-12-18</td>\n",
       "      <td>EU</td>\n",
       "      <td>PC</td>\n",
       "      <td>B</td>\n",
       "      <td>interface_eu_test</td>\n",
       "    </tr>\n",
       "    <tr>\n",
       "      <th>10519</th>\n",
       "      <td>00E68F103C66C1F7</td>\n",
       "      <td>2020-12-18</td>\n",
       "      <td>EU</td>\n",
       "      <td>PC</td>\n",
       "      <td>A</td>\n",
       "      <td>recommender_system_test</td>\n",
       "    </tr>\n",
       "    <tr>\n",
       "      <th>6897</th>\n",
       "      <td>00EFA157F7B6E1C4</td>\n",
       "      <td>2020-12-09</td>\n",
       "      <td>EU</td>\n",
       "      <td>Android</td>\n",
       "      <td>A</td>\n",
       "      <td>interface_eu_test</td>\n",
       "    </tr>\n",
       "    <tr>\n",
       "      <th>6896</th>\n",
       "      <td>00EFA157F7B6E1C4</td>\n",
       "      <td>2020-12-09</td>\n",
       "      <td>EU</td>\n",
       "      <td>Android</td>\n",
       "      <td>A</td>\n",
       "      <td>recommender_system_test</td>\n",
       "    </tr>\n",
       "  </tbody>\n",
       "</table>\n",
       "</div>"
      ],
      "text/plain": [
       "                user_id first_date region   device group  \\\n",
       "13995  001064FEAAB631A1 2020-12-20     EU  Android     B   \n",
       "13996  001064FEAAB631A1 2020-12-20     EU  Android     B   \n",
       "3431   00341D8401F0F665 2020-12-21     EU   iPhone     A   \n",
       "3432   00341D8401F0F665 2020-12-21     EU   iPhone     A   \n",
       "7589   0082295A41A867B5 2020-12-16     EU   iPhone     A   \n",
       "7590   0082295A41A867B5 2020-12-16     EU   iPhone     B   \n",
       "10520  00E68F103C66C1F7 2020-12-18     EU       PC     B   \n",
       "10519  00E68F103C66C1F7 2020-12-18     EU       PC     A   \n",
       "6897   00EFA157F7B6E1C4 2020-12-09     EU  Android     A   \n",
       "6896   00EFA157F7B6E1C4 2020-12-09     EU  Android     A   \n",
       "\n",
       "                       ab_test  \n",
       "13995  recommender_system_test  \n",
       "13996        interface_eu_test  \n",
       "3431   recommender_system_test  \n",
       "3432         interface_eu_test  \n",
       "7589   recommender_system_test  \n",
       "7590         interface_eu_test  \n",
       "10520        interface_eu_test  \n",
       "10519  recommender_system_test  \n",
       "6897         interface_eu_test  \n",
       "6896   recommender_system_test  "
      ]
     },
     "execution_count": 78,
     "metadata": {},
     "output_type": "execute_result"
    }
   ],
   "source": [
    "# verifiquemos que efectivamente esos usuarios aparecen en ambas pruebas\n",
    "ab_users_groups[ab_users_groups['user_id'].isin(list_users_intersec)].sort_values('user_id').head(10)"
   ]
  },
  {
   "cell_type": "code",
   "execution_count": 79,
   "id": "7eff7288",
   "metadata": {},
   "outputs": [],
   "source": [
    "# creamos un set de datos de los usuarios que participaron únicamente en alguna de las dos pruebas realizadas\n",
    "ab_users_only_one_test=ab_users_groups[~ab_users_groups['user_id'].isin(list_users_intersec)].copy()"
   ]
  },
  {
   "cell_type": "code",
   "execution_count": 80,
   "id": "1a722663",
   "metadata": {},
   "outputs": [
    {
     "data": {
      "text/plain": [
       "((12751, 6), 12751)"
      ]
     },
     "execution_count": 80,
     "metadata": {},
     "output_type": "execute_result"
    }
   ],
   "source": [
    "# mostramos el tamaño del dataframe creado y la cantidad de usuarios unicos\n",
    "ab_users_only_one_test.shape, ab_users_only_one_test['user_id'].nunique()"
   ]
  },
  {
   "cell_type": "code",
   "execution_count": 81,
   "id": "245028f6",
   "metadata": {},
   "outputs": [
    {
     "data": {
      "text/html": [
       "<div>\n",
       "<style scoped>\n",
       "    .dataframe tbody tr th:only-of-type {\n",
       "        vertical-align: middle;\n",
       "    }\n",
       "\n",
       "    .dataframe tbody tr th {\n",
       "        vertical-align: top;\n",
       "    }\n",
       "\n",
       "    .dataframe thead th {\n",
       "        text-align: right;\n",
       "    }\n",
       "</style>\n",
       "<table border=\"1\" class=\"dataframe\">\n",
       "  <thead>\n",
       "    <tr style=\"text-align: right;\">\n",
       "      <th></th>\n",
       "      <th>user_id</th>\n",
       "      <th>first_date</th>\n",
       "      <th>region</th>\n",
       "      <th>device</th>\n",
       "      <th>group</th>\n",
       "      <th>ab_test</th>\n",
       "    </tr>\n",
       "  </thead>\n",
       "  <tbody>\n",
       "    <tr>\n",
       "      <th>1002</th>\n",
       "      <td>0002CE61FF2C4011</td>\n",
       "      <td>2020-12-07</td>\n",
       "      <td>EU</td>\n",
       "      <td>Mac</td>\n",
       "      <td>A</td>\n",
       "      <td>interface_eu_test</td>\n",
       "    </tr>\n",
       "    <tr>\n",
       "      <th>9463</th>\n",
       "      <td>0010A1C096941592</td>\n",
       "      <td>2020-12-17</td>\n",
       "      <td>EU</td>\n",
       "      <td>Android</td>\n",
       "      <td>A</td>\n",
       "      <td>recommender_system_test</td>\n",
       "    </tr>\n",
       "    <tr>\n",
       "      <th>9177</th>\n",
       "      <td>001E72F50D1C48FA</td>\n",
       "      <td>2020-12-17</td>\n",
       "      <td>EU</td>\n",
       "      <td>Mac</td>\n",
       "      <td>B</td>\n",
       "      <td>interface_eu_test</td>\n",
       "    </tr>\n",
       "    <tr>\n",
       "      <th>6841</th>\n",
       "      <td>002412F1EB3F6E38</td>\n",
       "      <td>2020-12-09</td>\n",
       "      <td>EU</td>\n",
       "      <td>Mac</td>\n",
       "      <td>A</td>\n",
       "      <td>interface_eu_test</td>\n",
       "    </tr>\n",
       "    <tr>\n",
       "      <th>4954</th>\n",
       "      <td>002540BE89C930FB</td>\n",
       "      <td>2020-12-08</td>\n",
       "      <td>EU</td>\n",
       "      <td>Android</td>\n",
       "      <td>A</td>\n",
       "      <td>interface_eu_test</td>\n",
       "    </tr>\n",
       "  </tbody>\n",
       "</table>\n",
       "</div>"
      ],
      "text/plain": [
       "               user_id first_date region   device group  \\\n",
       "1002  0002CE61FF2C4011 2020-12-07     EU      Mac     A   \n",
       "9463  0010A1C096941592 2020-12-17     EU  Android     A   \n",
       "9177  001E72F50D1C48FA 2020-12-17     EU      Mac     B   \n",
       "6841  002412F1EB3F6E38 2020-12-09     EU      Mac     A   \n",
       "4954  002540BE89C930FB 2020-12-08     EU  Android     A   \n",
       "\n",
       "                      ab_test  \n",
       "1002        interface_eu_test  \n",
       "9463  recommender_system_test  \n",
       "9177        interface_eu_test  \n",
       "6841        interface_eu_test  \n",
       "4954        interface_eu_test  "
      ]
     },
     "execution_count": 81,
     "metadata": {},
     "output_type": "execute_result"
    }
   ],
   "source": [
    "# mostramos parte de los datos\n",
    "ab_users_only_one_test.sort_values('user_id').head()"
   ]
  },
  {
   "cell_type": "code",
   "execution_count": 82,
   "id": "4a2efccd-6d56-4d99-8e01-6b280460e253",
   "metadata": {},
   "outputs": [
    {
     "data": {
      "text/plain": [
       "(2788, 6)"
      ]
     },
     "execution_count": 82,
     "metadata": {},
     "output_type": "execute_result"
    }
   ],
   "source": [
    "# creamos un dataframe para los usuarios que participaron unicamente en la prueba 'recommender_system_test'\n",
    "ab_users_groups_system=ab_users_only_one_test.query('ab_test==\"recommender_system_test\"')\n",
    "ab_users_groups_system.shape"
   ]
  },
  {
   "cell_type": "markdown",
   "id": "649bc626-9f60-4864-b942-967b19c4aa25",
   "metadata": {},
   "source": [
    "**Tenemos que 2,788 usuarios participaron únicamente en la prueba `recommender_system_test`.**"
   ]
  },
  {
   "cell_type": "code",
   "execution_count": 83,
   "id": "ad1bcec6-308f-4f2a-9312-d413f477e6cb",
   "metadata": {},
   "outputs": [
    {
     "data": {
      "text/html": [
       "<div>\n",
       "<style scoped>\n",
       "    .dataframe tbody tr th:only-of-type {\n",
       "        vertical-align: middle;\n",
       "    }\n",
       "\n",
       "    .dataframe tbody tr th {\n",
       "        vertical-align: top;\n",
       "    }\n",
       "\n",
       "    .dataframe thead th {\n",
       "        text-align: right;\n",
       "    }\n",
       "</style>\n",
       "<table border=\"1\" class=\"dataframe\">\n",
       "  <thead>\n",
       "    <tr style=\"text-align: right;\">\n",
       "      <th></th>\n",
       "      <th>user_id</th>\n",
       "      <th>event_dt</th>\n",
       "      <th>event_name</th>\n",
       "      <th>details</th>\n",
       "      <th>event_date</th>\n",
       "      <th>name</th>\n",
       "      <th>regions</th>\n",
       "      <th>start_dt</th>\n",
       "      <th>finish_dt</th>\n",
       "      <th>first_date</th>\n",
       "      <th>region</th>\n",
       "      <th>device</th>\n",
       "      <th>group</th>\n",
       "      <th>ab_test</th>\n",
       "    </tr>\n",
       "  </thead>\n",
       "  <tbody>\n",
       "    <tr>\n",
       "      <th>10238</th>\n",
       "      <td>A459BE53EC0D7599</td>\n",
       "      <td>2020-12-28 06:36:28</td>\n",
       "      <td>product_page</td>\n",
       "      <td>NaN</td>\n",
       "      <td>2020-12-28</td>\n",
       "      <td>NaN</td>\n",
       "      <td>NaN</td>\n",
       "      <td>NaT</td>\n",
       "      <td>NaT</td>\n",
       "      <td>2020-12-18</td>\n",
       "      <td>EU</td>\n",
       "      <td>iPhone</td>\n",
       "      <td>A</td>\n",
       "      <td>recommender_system_test</td>\n",
       "    </tr>\n",
       "  </tbody>\n",
       "</table>\n",
       "</div>"
      ],
      "text/plain": [
       "                user_id            event_dt    event_name  details event_date  \\\n",
       "10238  A459BE53EC0D7599 2020-12-28 06:36:28  product_page      NaN 2020-12-28   \n",
       "\n",
       "      name regions start_dt finish_dt first_date region  device group  \\\n",
       "10238  NaN     NaN      NaT       NaT 2020-12-18     EU  iPhone     A   \n",
       "\n",
       "                       ab_test  \n",
       "10238  recommender_system_test  "
      ]
     },
     "execution_count": 83,
     "metadata": {},
     "output_type": "execute_result"
    }
   ],
   "source": [
    "# creamos un dataframe que contenga los eventos para los usuarios que participaron en la prueba\n",
    "# unimos los dataframe 'ab_users_events' y 'ab_users_groups_system' para poder asociar eventos y usuarios en los grupos de prueba\n",
    "ab_events_users_groups=ab_users_events.merge(ab_users_groups_system,on='user_id',how='inner')\n",
    "ab_events_users_groups.sample()"
   ]
  },
  {
   "cell_type": "markdown",
   "id": "c1e39ae0",
   "metadata": {},
   "source": [
    "Ahora vamos a elegir únicamente aquellos eventos que pertenecen a la `'EU'` y que no tengan más de 14 días después de la fecha de inscripción. Para ello crearemos la columna `diff_date` en el dataframe `ab_events_users_groups` que calcule la diferencia entre la fecha del evento y la fecha de inscripción del usuario."
   ]
  },
  {
   "cell_type": "code",
   "execution_count": 84,
   "id": "f4dbd21b",
   "metadata": {},
   "outputs": [],
   "source": [
    "# creamos la columna 'diff_date' en el dataframe 'ab_events_users_groups'\n",
    "ab_events_users_groups['diff_date']=ab_events_users_groups['event_date']-ab_events_users_groups['first_date']"
   ]
  },
  {
   "cell_type": "code",
   "execution_count": 85,
   "id": "b8a9b257",
   "metadata": {},
   "outputs": [
    {
     "data": {
      "text/html": [
       "<div>\n",
       "<style scoped>\n",
       "    .dataframe tbody tr th:only-of-type {\n",
       "        vertical-align: middle;\n",
       "    }\n",
       "\n",
       "    .dataframe tbody tr th {\n",
       "        vertical-align: top;\n",
       "    }\n",
       "\n",
       "    .dataframe thead th {\n",
       "        text-align: right;\n",
       "    }\n",
       "</style>\n",
       "<table border=\"1\" class=\"dataframe\">\n",
       "  <thead>\n",
       "    <tr style=\"text-align: right;\">\n",
       "      <th></th>\n",
       "      <th>user_id</th>\n",
       "      <th>event_dt</th>\n",
       "      <th>event_name</th>\n",
       "      <th>details</th>\n",
       "      <th>event_date</th>\n",
       "      <th>name</th>\n",
       "      <th>regions</th>\n",
       "      <th>start_dt</th>\n",
       "      <th>finish_dt</th>\n",
       "      <th>first_date</th>\n",
       "      <th>region</th>\n",
       "      <th>device</th>\n",
       "      <th>group</th>\n",
       "      <th>ab_test</th>\n",
       "      <th>diff_date</th>\n",
       "    </tr>\n",
       "  </thead>\n",
       "  <tbody>\n",
       "    <tr>\n",
       "      <th>11364</th>\n",
       "      <td>1FF27FE8651E6B7A</td>\n",
       "      <td>2020-12-22 09:53:14</td>\n",
       "      <td>product_page</td>\n",
       "      <td>NaN</td>\n",
       "      <td>2020-12-22</td>\n",
       "      <td>NaN</td>\n",
       "      <td>NaN</td>\n",
       "      <td>NaT</td>\n",
       "      <td>NaT</td>\n",
       "      <td>2020-12-21</td>\n",
       "      <td>EU</td>\n",
       "      <td>Android</td>\n",
       "      <td>A</td>\n",
       "      <td>recommender_system_test</td>\n",
       "      <td>1 days</td>\n",
       "    </tr>\n",
       "    <tr>\n",
       "      <th>7991</th>\n",
       "      <td>4E04CB8AA2CFA418</td>\n",
       "      <td>2020-12-12 18:29:03</td>\n",
       "      <td>product_page</td>\n",
       "      <td>NaN</td>\n",
       "      <td>2020-12-12</td>\n",
       "      <td>NaN</td>\n",
       "      <td>NaN</td>\n",
       "      <td>NaT</td>\n",
       "      <td>NaT</td>\n",
       "      <td>2020-12-10</td>\n",
       "      <td>EU</td>\n",
       "      <td>Android</td>\n",
       "      <td>A</td>\n",
       "      <td>recommender_system_test</td>\n",
       "      <td>2 days</td>\n",
       "    </tr>\n",
       "    <tr>\n",
       "      <th>15886</th>\n",
       "      <td>3CA972F86411CF13</td>\n",
       "      <td>2020-12-21 13:12:49</td>\n",
       "      <td>login</td>\n",
       "      <td>NaN</td>\n",
       "      <td>2020-12-21</td>\n",
       "      <td>NaN</td>\n",
       "      <td>NaN</td>\n",
       "      <td>NaT</td>\n",
       "      <td>NaT</td>\n",
       "      <td>2020-12-20</td>\n",
       "      <td>EU</td>\n",
       "      <td>PC</td>\n",
       "      <td>A</td>\n",
       "      <td>recommender_system_test</td>\n",
       "      <td>1 days</td>\n",
       "    </tr>\n",
       "    <tr>\n",
       "      <th>7455</th>\n",
       "      <td>47DEBC099D7E9A00</td>\n",
       "      <td>2020-12-07 02:04:50</td>\n",
       "      <td>product_page</td>\n",
       "      <td>NaN</td>\n",
       "      <td>2020-12-07</td>\n",
       "      <td>NaN</td>\n",
       "      <td>NaN</td>\n",
       "      <td>NaT</td>\n",
       "      <td>NaT</td>\n",
       "      <td>2020-12-07</td>\n",
       "      <td>EU</td>\n",
       "      <td>Android</td>\n",
       "      <td>A</td>\n",
       "      <td>recommender_system_test</td>\n",
       "      <td>0 days</td>\n",
       "    </tr>\n",
       "    <tr>\n",
       "      <th>1375</th>\n",
       "      <td>286A2902AD3A7159</td>\n",
       "      <td>2020-12-16 11:27:14</td>\n",
       "      <td>purchase</td>\n",
       "      <td>4.99</td>\n",
       "      <td>2020-12-16</td>\n",
       "      <td>NaN</td>\n",
       "      <td>NaN</td>\n",
       "      <td>NaT</td>\n",
       "      <td>NaT</td>\n",
       "      <td>2020-12-10</td>\n",
       "      <td>EU</td>\n",
       "      <td>Android</td>\n",
       "      <td>B</td>\n",
       "      <td>recommender_system_test</td>\n",
       "      <td>6 days</td>\n",
       "    </tr>\n",
       "  </tbody>\n",
       "</table>\n",
       "</div>"
      ],
      "text/plain": [
       "                user_id            event_dt    event_name  details event_date  \\\n",
       "11364  1FF27FE8651E6B7A 2020-12-22 09:53:14  product_page      NaN 2020-12-22   \n",
       "7991   4E04CB8AA2CFA418 2020-12-12 18:29:03  product_page      NaN 2020-12-12   \n",
       "15886  3CA972F86411CF13 2020-12-21 13:12:49         login      NaN 2020-12-21   \n",
       "7455   47DEBC099D7E9A00 2020-12-07 02:04:50  product_page      NaN 2020-12-07   \n",
       "1375   286A2902AD3A7159 2020-12-16 11:27:14      purchase     4.99 2020-12-16   \n",
       "\n",
       "      name regions start_dt finish_dt first_date region   device group  \\\n",
       "11364  NaN     NaN      NaT       NaT 2020-12-21     EU  Android     A   \n",
       "7991   NaN     NaN      NaT       NaT 2020-12-10     EU  Android     A   \n",
       "15886  NaN     NaN      NaT       NaT 2020-12-20     EU       PC     A   \n",
       "7455   NaN     NaN      NaT       NaT 2020-12-07     EU  Android     A   \n",
       "1375   NaN     NaN      NaT       NaT 2020-12-10     EU  Android     B   \n",
       "\n",
       "                       ab_test diff_date  \n",
       "11364  recommender_system_test    1 days  \n",
       "7991   recommender_system_test    2 days  \n",
       "15886  recommender_system_test    1 days  \n",
       "7455   recommender_system_test    0 days  \n",
       "1375   recommender_system_test    6 days  "
      ]
     },
     "execution_count": 85,
     "metadata": {},
     "output_type": "execute_result"
    }
   ],
   "source": [
    "# elegimos los eventos que pertenecen a la 'EU' y 'diff_date' menor o igual a '14 days'\n",
    "region='EU'\n",
    "days=\"14 days\"\n",
    "ab_events_users_groups_eu=ab_events_users_groups.query('region==@region and diff_date<=@days')\n",
    "ab_events_users_groups_eu.sample(5)"
   ]
  },
  {
   "cell_type": "code",
   "execution_count": 86,
   "id": "da662b88-7e2c-4d20-b84c-41781f1b3b57",
   "metadata": {},
   "outputs": [
    {
     "data": {
      "text/plain": [
       "(16581, 15)"
      ]
     },
     "execution_count": 86,
     "metadata": {},
     "output_type": "execute_result"
    }
   ],
   "source": [
    "# mostramos el tamaño del dataframe creado\n",
    "ab_events_users_groups_eu.shape"
   ]
  },
  {
   "cell_type": "code",
   "execution_count": 87,
   "id": "fb18ba59",
   "metadata": {},
   "outputs": [
    {
     "data": {
      "text/plain": [
       "2594"
      ]
     },
     "execution_count": 87,
     "metadata": {},
     "output_type": "execute_result"
    }
   ],
   "source": [
    "# veamos la cantidad de usuarios participantes en la prueba\n",
    "ab_events_users_groups_eu['user_id'].nunique()"
   ]
  },
  {
   "cell_type": "markdown",
   "id": "25e1fec0-64ae-401e-88ce-39076a89e3e6",
   "metadata": {},
   "source": [
    "El dataframe `'ab_events_users_groups_eu'` agrupa eventos de los usuarios de la región `EU` participantes en la prueba `recommender_system_test`, que hayan ocurrido dentro de los catorce días posteriores a la inscripción.\n",
    "\n",
    "Tenemos que **únicamente participaron 2,594 usuarios en la prueba.**\n",
    "\n",
    "**Asegurémonos que cada uno de los usuarios aparecen en uno solo de los grupos para poder decir que los resultados de la prueba A/B serán válidos.**"
   ]
  },
  {
   "cell_type": "code",
   "execution_count": 88,
   "id": "e9eb03ed-20da-45a5-9398-e83c770122f5",
   "metadata": {},
   "outputs": [],
   "source": [
    "# obtenemos la lista de clientes del grupo A\n",
    "list_clientsA=ab_events_users_groups_eu[ab_events_users_groups_eu['group']=='A']['user_id'].unique()"
   ]
  },
  {
   "cell_type": "code",
   "execution_count": 89,
   "id": "7e41232a-14f3-4c05-9a81-04970aecca9a",
   "metadata": {},
   "outputs": [],
   "source": [
    "# obtenemos la lista de clientes del grupo B\n",
    "list_clientsB=ab_events_users_groups_eu[ab_events_users_groups_eu['group']=='B']['user_id'].unique()"
   ]
  },
  {
   "cell_type": "code",
   "execution_count": 90,
   "id": "0de01571-6ec4-40eb-972e-6b291081ee64",
   "metadata": {},
   "outputs": [
    {
     "name": "stdout",
     "output_type": "stream",
     "text": [
      "Hay 0 usuarios que aparecen en ambos grupos.\n"
     ]
    }
   ],
   "source": [
    "\"\"\"creamos dos conjuntos con los 'user_id' de cada grupo y buscamos su intersección para ver los usuarios que aparecen en ambos conjuntos\"\"\"\n",
    "\n",
    "set1 = set(list_clientsA)\n",
    "set2 = set(list_clientsB)\n",
    "\n",
    "set3 = set1 & set2\n",
    "\n",
    "# usuarios en ambos grupos\n",
    "list_clientsAB = list(set3)\n",
    "print(f'Hay {len(list_clientsAB)} usuarios que aparecen en ambos grupos.')"
   ]
  },
  {
   "cell_type": "markdown",
   "id": "e633e139-27d7-4962-adf1-9cfe9ed619f9",
   "metadata": {},
   "source": [
    "**Una vez que nos hemos asegurado que no hay clientes que aparezcan en los dos grupos podemos proceder al análisis exploratorio.**"
   ]
  },
  {
   "cell_type": "markdown",
   "id": "d4df5be0-7a69-42c6-8997-44e7ca9c9975",
   "metadata": {},
   "source": [
    "[Volver a contenidos](#contenidos)\n",
    "## Análisis exploratorio de los datos"
   ]
  },
  {
   "cell_type": "code",
   "execution_count": 91,
   "id": "9fe5e06b",
   "metadata": {},
   "outputs": [
    {
     "data": {
      "text/html": [
       "<div>\n",
       "<style scoped>\n",
       "    .dataframe tbody tr th:only-of-type {\n",
       "        vertical-align: middle;\n",
       "    }\n",
       "\n",
       "    .dataframe tbody tr th {\n",
       "        vertical-align: top;\n",
       "    }\n",
       "\n",
       "    .dataframe thead th {\n",
       "        text-align: right;\n",
       "    }\n",
       "</style>\n",
       "<table border=\"1\" class=\"dataframe\">\n",
       "  <thead>\n",
       "    <tr style=\"text-align: right;\">\n",
       "      <th></th>\n",
       "      <th>event_name</th>\n",
       "      <th>users_event</th>\n",
       "      <th>proportion</th>\n",
       "    </tr>\n",
       "  </thead>\n",
       "  <tbody>\n",
       "    <tr>\n",
       "      <th>0</th>\n",
       "      <td>login</td>\n",
       "      <td>1939</td>\n",
       "      <td>1.000000</td>\n",
       "    </tr>\n",
       "    <tr>\n",
       "      <th>1</th>\n",
       "      <td>product_page</td>\n",
       "      <td>1265</td>\n",
       "      <td>0.652398</td>\n",
       "    </tr>\n",
       "    <tr>\n",
       "      <th>2</th>\n",
       "      <td>purchase</td>\n",
       "      <td>613</td>\n",
       "      <td>0.316142</td>\n",
       "    </tr>\n",
       "    <tr>\n",
       "      <th>3</th>\n",
       "      <td>product_cart</td>\n",
       "      <td>589</td>\n",
       "      <td>0.303765</td>\n",
       "    </tr>\n",
       "  </tbody>\n",
       "</table>\n",
       "</div>"
      ],
      "text/plain": [
       "     event_name  users_event  proportion\n",
       "0         login         1939    1.000000\n",
       "1  product_page         1265    0.652398\n",
       "2      purchase          613    0.316142\n",
       "3  product_cart          589    0.303765"
      ]
     },
     "execution_count": 91,
     "metadata": {},
     "output_type": "execute_result"
    }
   ],
   "source": [
    "# veamos la distribución de los distintos tipos de eventos dentro del grupo 'A'\n",
    "proportion_users_event_A=ab_events_users_groups_eu.query('group==\"A\"').groupby('event_name')\\\n",
    "                            .agg(users_event=('user_id','nunique')).sort_values('users_event',ascending=False)\\\n",
    "                            .reset_index()\n",
    "\n",
    "# calculamos las proporciones de los usuarios en cada uno de los eventos\n",
    "proportion_users_event_A['proportion']=proportion_users_event_A['users_event']/proportion_users_event_A['users_event'].max()\n",
    "proportion_users_event_A"
   ]
  },
  {
   "cell_type": "code",
   "execution_count": 92,
   "id": "1fd8df15",
   "metadata": {},
   "outputs": [
    {
     "data": {
      "text/html": [
       "<div>\n",
       "<style scoped>\n",
       "    .dataframe tbody tr th:only-of-type {\n",
       "        vertical-align: middle;\n",
       "    }\n",
       "\n",
       "    .dataframe tbody tr th {\n",
       "        vertical-align: top;\n",
       "    }\n",
       "\n",
       "    .dataframe thead th {\n",
       "        text-align: right;\n",
       "    }\n",
       "</style>\n",
       "<table border=\"1\" class=\"dataframe\">\n",
       "  <thead>\n",
       "    <tr style=\"text-align: right;\">\n",
       "      <th></th>\n",
       "      <th>event_name</th>\n",
       "      <th>users_event</th>\n",
       "      <th>proportion</th>\n",
       "    </tr>\n",
       "  </thead>\n",
       "  <tbody>\n",
       "    <tr>\n",
       "      <th>0</th>\n",
       "      <td>login</td>\n",
       "      <td>654</td>\n",
       "      <td>1.000000</td>\n",
       "    </tr>\n",
       "    <tr>\n",
       "      <th>1</th>\n",
       "      <td>product_page</td>\n",
       "      <td>367</td>\n",
       "      <td>0.561162</td>\n",
       "    </tr>\n",
       "    <tr>\n",
       "      <th>2</th>\n",
       "      <td>purchase</td>\n",
       "      <td>191</td>\n",
       "      <td>0.292049</td>\n",
       "    </tr>\n",
       "    <tr>\n",
       "      <th>3</th>\n",
       "      <td>product_cart</td>\n",
       "      <td>184</td>\n",
       "      <td>0.281346</td>\n",
       "    </tr>\n",
       "  </tbody>\n",
       "</table>\n",
       "</div>"
      ],
      "text/plain": [
       "     event_name  users_event  proportion\n",
       "0         login          654    1.000000\n",
       "1  product_page          367    0.561162\n",
       "2      purchase          191    0.292049\n",
       "3  product_cart          184    0.281346"
      ]
     },
     "execution_count": 92,
     "metadata": {},
     "output_type": "execute_result"
    }
   ],
   "source": [
    "# veamos la distribución de los distintos tipos de eventos dentro dentro del grupo 'B'\n",
    "proportion_users_event_B=ab_events_users_groups_eu.query('group==\"B\"').groupby('event_name')\\\n",
    "                            .agg(users_event=('user_id','nunique')).sort_values('users_event',ascending=False)\\\n",
    "                            .reset_index()\n",
    "\n",
    "# calculamos las proporciones de los usuarios en cada uno de los eventos\n",
    "proportion_users_event_B['proportion']=proportion_users_event_B['users_event']/proportion_users_event_B['users_event'].max()\n",
    "proportion_users_event_B"
   ]
  },
  {
   "cell_type": "code",
   "execution_count": 93,
   "id": "5be48ca7",
   "metadata": {},
   "outputs": [],
   "source": [
    "\"\"\"Creamos una función para un gráfico tipo Funnel\"\"\"\n",
    "\n",
    "def crear_grafico_funnel(data,col_datos,col_etapas,formato=\"{:.1%}\",titulo='Grafico'):\n",
    "    \"\"\"\n",
    "    data=el dataframe de datos con los valores de las etapas, ordenadas de mayor a menor\n",
    "    col_datos=el nombre de la columna del dataframe que contiene los conteos de las etapas\n",
    "    col_etapas=el nombre de la columna del dataframe con los nombre de las etapas\n",
    "    formato= del tipo \"{:,.0f}\" que indica como se muestran las etiquetas de valores de col_datos\n",
    "    titulo= el titulo del grafico ('Grafico')\n",
    "    \"\"\"\n",
    "    fig,ax=plt.subplots(figsize=(10,5))\n",
    "   \n",
    "    ax=sns.barplot(data=data,x=col_datos,y=col_etapas)\n",
    "    \n",
    "    for rect in ax.patches:\n",
    "    # Get X and Y placement of label from rect.\n",
    "        x_value = rect.get_width()\n",
    "        y_value = rect.get_y() + rect.get_height() / 2\n",
    "\n",
    "        # Number of points between bar and label\n",
    "        space = 3\n",
    "        # Vertical alignment 'va'\n",
    "\n",
    "        # Use X value as label and format percent\n",
    "        label =formato.format(x_value)\n",
    "\n",
    "        # Create annotation\n",
    "        ax.annotate(\n",
    "            label,                      # Use `label` as label\n",
    "            (x_value, y_value),         # Place label at end of the bar\n",
    "            xytext=(space,0),          # Horizontally shift label by `space`\n",
    "            textcoords=\"offset points\", # Interpret `xytext` as offset in points\n",
    "            ha='left',                  # Horizontally center label\n",
    "            va='center')     \n",
    "\n",
    "    plt.tight_layout()\n",
    "    plt.xlim(0,data[col_datos].max()*1.1)\n",
    "    plt.xlabel('Usuarios')\n",
    "    plt.ylabel('Evento')\n",
    "    plt.title(titulo)\n",
    "    plt.show()"
   ]
  },
  {
   "cell_type": "code",
   "execution_count": 94,
   "id": "8971a8b0",
   "metadata": {},
   "outputs": [
    {
     "data": {
      "image/png": "[encoded data removed]",
      "text/plain": [
       "<Figure size 720x360 with 1 Axes>"
      ]
     },
     "metadata": {
      "needs_background": "light"
     },
     "output_type": "display_data"
    }
   ],
   "source": [
    "# creamos el grafico tipo funnel para la cantidad de eventos\n",
    "crear_grafico_funnel(data=proportion_users_event_A,col_datos='proportion',col_etapas='event_name',\\\n",
    "                     titulo='Cantidad de usuarios por cada evento en el grupo A')"
   ]
  },
  {
   "cell_type": "code",
   "execution_count": 95,
   "id": "149215ae",
   "metadata": {},
   "outputs": [
    {
     "data": {
      "image/png": "[encoded data removed]",
      "text/plain": [
       "<Figure size 720x360 with 1 Axes>"
      ]
     },
     "metadata": {
      "needs_background": "light"
     },
     "output_type": "display_data"
    }
   ],
   "source": [
    "# creamos el grafico tipo funnel para la cantidad de eventos\n",
    "crear_grafico_funnel(data=proportion_users_event_B,col_datos='proportion',col_etapas='event_name',\\\n",
    "                     titulo='Cantidad de usuarios por cada evento en el grupo B')"
   ]
  },
  {
   "cell_type": "code",
   "execution_count": 96,
   "id": "950bd84b-d0c2-45b0-a05e-b26f05841ab1",
   "metadata": {},
   "outputs": [
    {
     "name": "stderr",
     "output_type": "stream",
     "text": [
      "/opt/conda/lib/python3.9/site-packages/seaborn/distributions.py:2557: FutureWarning: `distplot` is a deprecated function and will be removed in a future version. Please adapt your code to use either `displot` (a figure-level function with similar flexibility) or `histplot` (an axes-level function for histograms).\n",
      "  warnings.warn(msg, FutureWarning)\n",
      "/opt/conda/lib/python3.9/site-packages/seaborn/distributions.py:2557: FutureWarning: `distplot` is a deprecated function and will be removed in a future version. Please adapt your code to use either `displot` (a figure-level function with similar flexibility) or `histplot` (an axes-level function for histograms).\n",
      "  warnings.warn(msg, FutureWarning)\n"
     ]
    },
    {
     "data": {
      "image/png": "[encoded data removed]",
      "text/plain": [
       "<Figure size 576x432 with 1 Axes>"
      ]
     },
     "metadata": {
      "needs_background": "light"
     },
     "output_type": "display_data"
    }
   ],
   "source": [
    "# creamos el gráfico de distribución para la cantidad de eventos por usuario\n",
    "f,ax=plt.subplots(figsize=(8,6))\n",
    "num_eventsA=ab_events_users_groups_eu.query('group==\"A\"').groupby('user_id')['event_name'].count()\n",
    "num_eventsB=ab_events_users_groups_eu.query('group==\"B\"').groupby('user_id')['event_name'].count()\n",
    "\n",
    "# distribución para la cantidad de eventos por usuario del grupo A\n",
    "sns.distplot(num_eventsA,color='blue',label='group=A')\n",
    "\n",
    "\n",
    "# distribución para la cantidad de eventos por usuario del grupo A\n",
    "sns.distplot(num_eventsB,color='red',label='group=B')\n",
    "\n",
    "plt.title('Distribución para la cantidad de eventos por usuario')\n",
    "plt.xlabel('count_event')\n",
    "plt.legend(loc='best')\n",
    "plt.show()"
   ]
  },
  {
   "cell_type": "markdown",
   "id": "7e8397b9-9b53-4df6-89cb-af3fa739933f",
   "metadata": {},
   "source": [
    "En el gráfico anterior podemos notar que la cantidad de eventos por usuario tiene una distribución muy similar entre los dos grupos bajo estudio."
   ]
  },
  {
   "cell_type": "code",
   "execution_count": 97,
   "id": "df077319-ebb8-435f-a1a6-225707a7ea1e",
   "metadata": {},
   "outputs": [
    {
     "data": {
      "image/png": "[encoded data removed]",
      "text/plain": [
       "<Figure size 576x432 with 1 Axes>"
      ]
     },
     "metadata": {
      "needs_background": "light"
     },
     "output_type": "display_data"
    }
   ],
   "source": [
    "# observemos la distribución de la cantidad de eventos entre los días\n",
    "plt.subplots(figsize=(8,6))\n",
    "sns.histplot(ab_events_users_groups_eu['event_date'],bins=50)\n",
    "plt.xticks(rotation=45,ha='right')\n",
    "plt.title('Distribución del número de eventos entre los días')\n",
    "plt.show()"
   ]
  },
  {
   "cell_type": "markdown",
   "id": "4b624730-217c-45b3-bb89-145f31283141",
   "metadata": {},
   "source": [
    "Notamos que hay una gran cantidad de eventos a partir del día 2020-12-14, con un máximo el día 2020-12-21 y descendiendo posteriormente.  \n",
    "El mes de diciembre es un mes donde mucha gente acostumbra a dar regalos para los días 24, 25 y 31, muy posiblemente se esperé mucha actividad de compra en las tiendas, ya sea en línea o física. Así que, realizar una prueba de aumentó de compras o navegación dentro de un sitio online muy posiblemente se vea afectado por dicha actividad de compra y no por los cambios relacionados con la introducción de un sistema de recomendaciones mejorado. Quizás sea mejor probar este nuevo sistema de recomendaciones en alguna otra fecha donde no se espere una situación de compras similar a esta época del año, aunque en esta temporada tenemos la ventaja de poder reunir mucha información para el estudio."
   ]
  },
  {
   "cell_type": "markdown",
   "id": "0fab8727-7f60-4396-8140-7a697d950b17",
   "metadata": {},
   "source": [
    "[Volver a contenidos](#contenidos)\n",
    "## Comparación entre el grupo de control y el grupo de prueba  \n",
    "Probaremos si existe diferencia entre los grupos. Vamos a calcular la tasa de conversión de los usuarios en cada uno de los eventos dentro de cada grupo."
   ]
  },
  {
   "cell_type": "markdown",
   "id": "8a48b67d-db03-486c-9a44-78154be0d810",
   "metadata": {},
   "source": [
    "[Volver a contenidos](#contenidos)\n",
    "### Prueba t-student"
   ]
  },
  {
   "cell_type": "code",
   "execution_count": 98,
   "id": "c537dcca-dcc6-4b41-9367-58bca98e0689",
   "metadata": {},
   "outputs": [],
   "source": [
    "\"\"\"Creamos una función para realizar una t-test sobre dos grupos y cada uno de los eventos\"\"\"\n",
    "def ttest_comparation(data,group_1,group_2,alfa,eventos):\n",
    "    \"\"\"\n",
    "    data= el dataframe que contiene los datos filtrados para el estudio\n",
    "    group_1=el grupo_1 donde se realizará la prueba\n",
    "    group_2=el group_2 donde se realizará la prueba\n",
    "    alfa=el nivel de significancia para la prueba\n",
    "    p1,n_group_1=la proporcion y el tamaño de la muestra del grupo_1\n",
    "    p2,n_group_2=la proporcion y el tamaño de la muestra del grupo_2\n",
    "    decision_H0= si se rechaza o no H0\n",
    "    eventos=la lista que contiene los nombres de los eventos para los que se va a realizar la prueba\n",
    "    \"\"\"\n",
    "    # creamos un dataframe para guardar los resultados de las pruebas\n",
    "    df = pd.DataFrame(columns=['event_name', 'statistics-t','p_value','alfa','p1','n_group_1',\\\n",
    "                               'p2','n_group_2','decision_H0','grupos_comparados'])\n",
    "    \n",
    "    # creamos el ciclo para recorrer la lista de eventos\n",
    "    for event in eventos:    \n",
    "        # para cada usuario y grupo vamos a crear una lista\n",
    "        conversions=data[['user_id','group']].drop_duplicates()\n",
    "\n",
    "        # obtenemos los usuarios convertidos para un evento\n",
    "        converted=pd.DataFrame(data={\n",
    "                        \"user_id\":data[data['event_name']==event]\\\n",
    "                        ['user_id'].unique(),\"converted\":1})\n",
    "\n",
    "        # unimos 'conversions' con 'converted' para crear el dataframe de los usuarios convertidos en el evento\n",
    "        conversions=conversions.merge(converted,on=\"user_id\",how=\"left\")\n",
    "\n",
    "        # para los usuarios no convertidos rellenamos con 'cero'\n",
    "        conversions['converted']=conversions['converted'].fillna(0)\n",
    "\n",
    "        # creamos la muestra para el group_1\n",
    "        sample_group_1=conversions[conversions['group']==group_1]['converted']\n",
    "        # obtenemos el tamaño de la muestra\n",
    "        n1=len(sample_group_1)\n",
    "        # obtenemos la proporcion de  usuarios convertidos\n",
    "        p1=sample_group_1.mean()\n",
    "\n",
    "        # creamos la muestra para el group_2\n",
    "        sample_group_2=conversions[conversions['group']==group_2]['converted']\n",
    "        # obtenemos el tamaño de la muestra\n",
    "        n2=len(sample_group_2)\n",
    "        # obtenemos la proporcion de  usuarios convertidos\n",
    "        p2=sample_group_2.mean()\n",
    "\n",
    "        # realizamos la prueba\n",
    "        statistics,p_value=st.ttest_ind(sample_group_1,sample_group_2)\n",
    "        \n",
    "        # decision de la prueba, rechazar H0 si:\n",
    "        if p_value < alfa:\n",
    "            decision='Rechazar H0'\n",
    "        else:\n",
    "            decision='No rechazar H0'\n",
    "\n",
    "        # guardamos cada uno de los resultados de la prueba en el dataframe\n",
    "        df.loc[len(df)] = [event,statistics,p_value,alfa,p1,n1,p2,n2,decision,\\\n",
    "                           str(group_1)+\" vs \"+str(group_2)]\n",
    "        \n",
    "    return df"
   ]
  },
  {
   "cell_type": "code",
   "execution_count": 99,
   "id": "44b57e55-d9cb-4c41-8a94-c6c6bba2b40f",
   "metadata": {},
   "outputs": [],
   "source": [
    "# obtenemos la lista de los eventos a aplicar la prueba\n",
    "eventos=['product_page','product_cart','purchase']"
   ]
  },
  {
   "cell_type": "markdown",
   "id": "0573307e-78d0-4496-879e-13d513a69773",
   "metadata": {},
   "source": [
    "**Probaremos la hipótesis siguiente para cada tipo de evento:**\n",
    "\n",
    "- Hipótesis nula: la cantidad de usuarios convertidos en los grupos comparados es el mismo.\n",
    "\n",
    "- Hipótesis alternativa: la cantidad de usuarios convertidos en los grupos comparados no es el mismo.\n",
    "\n",
    "\n",
    "Ya que vamos a comparar la media de dos poblaciones, usaremos la prueba estadística `'t de Student'` (**ttes_ind**) con un nivel **alpha=0.05** de significancia. Consideraremos las varianzas de los grupos como iguales."
   ]
  },
  {
   "cell_type": "code",
   "execution_count": 100,
   "id": "f2b4c462-487d-41dd-8efa-0a5b265a7bff",
   "metadata": {},
   "outputs": [
    {
     "data": {
      "text/html": [
       "<div>\n",
       "<style scoped>\n",
       "    .dataframe tbody tr th:only-of-type {\n",
       "        vertical-align: middle;\n",
       "    }\n",
       "\n",
       "    .dataframe tbody tr th {\n",
       "        vertical-align: top;\n",
       "    }\n",
       "\n",
       "    .dataframe thead th {\n",
       "        text-align: right;\n",
       "    }\n",
       "</style>\n",
       "<table border=\"1\" class=\"dataframe\">\n",
       "  <thead>\n",
       "    <tr style=\"text-align: right;\">\n",
       "      <th></th>\n",
       "      <th>event_name</th>\n",
       "      <th>statistics-t</th>\n",
       "      <th>p_value</th>\n",
       "      <th>alfa</th>\n",
       "      <th>p1</th>\n",
       "      <th>n_group_1</th>\n",
       "      <th>p2</th>\n",
       "      <th>n_group_2</th>\n",
       "      <th>decision_H0</th>\n",
       "      <th>grupos_comparados</th>\n",
       "    </tr>\n",
       "  </thead>\n",
       "  <tbody>\n",
       "    <tr>\n",
       "      <th>0</th>\n",
       "      <td>product_page</td>\n",
       "      <td>4.231556</td>\n",
       "      <td>0.000024</td>\n",
       "      <td>0.05</td>\n",
       "      <td>0.652398</td>\n",
       "      <td>1939</td>\n",
       "      <td>0.560305</td>\n",
       "      <td>655</td>\n",
       "      <td>Rechazar H0</td>\n",
       "      <td>A vs B</td>\n",
       "    </tr>\n",
       "    <tr>\n",
       "      <th>1</th>\n",
       "      <td>product_cart</td>\n",
       "      <td>1.105218</td>\n",
       "      <td>0.269168</td>\n",
       "      <td>0.05</td>\n",
       "      <td>0.303765</td>\n",
       "      <td>1939</td>\n",
       "      <td>0.280916</td>\n",
       "      <td>655</td>\n",
       "      <td>No rechazar H0</td>\n",
       "      <td>A vs B</td>\n",
       "    </tr>\n",
       "    <tr>\n",
       "      <th>2</th>\n",
       "      <td>purchase</td>\n",
       "      <td>1.173951</td>\n",
       "      <td>0.240523</td>\n",
       "      <td>0.05</td>\n",
       "      <td>0.316142</td>\n",
       "      <td>1939</td>\n",
       "      <td>0.291603</td>\n",
       "      <td>655</td>\n",
       "      <td>No rechazar H0</td>\n",
       "      <td>A vs B</td>\n",
       "    </tr>\n",
       "  </tbody>\n",
       "</table>\n",
       "</div>"
      ],
      "text/plain": [
       "     event_name  statistics-t   p_value  alfa        p1 n_group_1        p2  \\\n",
       "0  product_page      4.231556  0.000024  0.05  0.652398      1939  0.560305   \n",
       "1  product_cart      1.105218  0.269168  0.05  0.303765      1939  0.280916   \n",
       "2      purchase      1.173951  0.240523  0.05  0.316142      1939  0.291603   \n",
       "\n",
       "  n_group_2     decision_H0 grupos_comparados  \n",
       "0       655     Rechazar H0            A vs B  \n",
       "1       655  No rechazar H0            A vs B  \n",
       "2       655  No rechazar H0            A vs B  "
      ]
     },
     "execution_count": 100,
     "metadata": {},
     "output_type": "execute_result"
    }
   ],
   "source": [
    "# aplicamos la funcion para realizar las pruebas t-test sobre los eventos y grupos de control\n",
    "ttest_comparation(data=ab_events_users_groups_eu,group_1='A',group_2='B',alfa=0.05,eventos=eventos)"
   ]
  },
  {
   "cell_type": "markdown",
   "id": "cccb1d1c-90ef-400c-8818-9b336368e85b",
   "metadata": {},
   "source": [
    "Notamos que solo el evento `'product_page'` muestra significancia estadística, lo que nos lleva a rechazar la hipótesis nula de que la cantidad de usuarios convertidos es el mismo entre los grupos comparados, usando un valor alfa de 5%.   \n",
    "Según los resultados de las pruebas hay diferencias significativas para la conversión en las vistas de la página del producto. Pero el grupo `B` muestra una menor proporción en vistas comparado al grupo de control `A`, lo cual pueda deberse al tamaño de la muestra en cada uno de los grupos."
   ]
  },
  {
   "cell_type": "markdown",
   "id": "9d542a6e-9a2d-416c-9d3d-39db0dfeb87a",
   "metadata": {},
   "source": [
    "[Volver a contenidos](#contenidos)\n",
    "### Prueba Z para dos proporciones"
   ]
  },
  {
   "cell_type": "code",
   "execution_count": 101,
   "id": "192cd014-449f-4414-91b9-ec71635eec4d",
   "metadata": {},
   "outputs": [],
   "source": [
    "\"\"\"Creamos una función para realizar una Z-test sobre dos proporciones y cada uno de los eventos\"\"\"\n",
    "def ztest_comparation(data,group_1,group_2,alfa,eventos):\n",
    "    \"\"\"\n",
    "    data= el dataframe que contiene los datos filtrados para el estudio\n",
    "    group_1=el grupo_1 donde se realizará la prueba\n",
    "    group_2=el group_2 donde se realizará la prueba\n",
    "    alfa=el nivel de significancia para la prueba\n",
    "    p1,n_group_1=la proporcion y el tamaño de la muestra del grupo_1\n",
    "    p2,n_group_2=la proporcion y el tamaño de la muestra del grupo_2\n",
    "    decision_H0= si se rechaza o no H0\n",
    "    eventos=la lista que contiene los nombres de los eventos para los que se va a realizar la prueba\n",
    "    \"\"\"\n",
    "    # creamos un dataframe para guardar los resultados de las pruebas\n",
    "    df = pd.DataFrame(columns=['event_name', 'statistics-z','p_value','alfa','p1','n_group_1',\\\n",
    "                               'p2','n_group_2','decision_H0','grupos_comparados'])\n",
    "    \n",
    "    # creamos el ciclo para recorrer la lista de eventos\n",
    "    for event in eventos:    \n",
    "        # para cada usuario y grupo vamos a crear una lista\n",
    "        conversions=data[['user_id','group']].drop_duplicates()\n",
    "\n",
    "        # obtenemos los usuarios convertidos para un evento\n",
    "        converted=pd.DataFrame(data={\n",
    "                        \"user_id\":data[data['event_name']==event]\\\n",
    "                        ['user_id'].unique(),\"converted\":1})\n",
    "\n",
    "        # unimos 'conversions' con 'converted' para crear el dataframe de los usuarios convertidos en el evento\n",
    "        conversions=conversions.merge(converted,on=\"user_id\",how=\"left\")\n",
    "\n",
    "        # para los usuarios no convertidos rellenamos con 'cero'\n",
    "        conversions['converted']=conversions['converted'].fillna(0)\n",
    "\n",
    "        # creamos la muestra para el group_1\n",
    "        sample_group_1=conversions[conversions['group']==group_1]['converted']\n",
    "        # obtenemos el tamaño de la muestra\n",
    "        n1=len(sample_group_1)\n",
    "        # obtenemos la proporcion de  usuarios convertidos\n",
    "        p1=sample_group_1.mean()\n",
    "\n",
    "        # creamos la muestra para el group_2\n",
    "        sample_group_2=conversions[conversions['group']==group_2]['converted']\n",
    "        # obtenemos el tamaño de la muestra\n",
    "        n2=len(sample_group_2)\n",
    "        # obtenemos la proporcion de  usuarios convertidos\n",
    "        p2=sample_group_2.mean()\n",
    "\n",
    "        # realizamos la prueba\n",
    "        statistics,p_value=sm.stats.proportions_ztest([n1*p1, n2*p2], [n1, n2])\n",
    "        \n",
    "        # decision de la prueba, rechazar H0 si:\n",
    "        if p_value < alfa:\n",
    "            decision='Rechazar H0'\n",
    "        else:\n",
    "            decision='No rechazar H0'\n",
    "\n",
    "        # guardamos cada uno de los resultados de la prueba en el dataframe\n",
    "        df.loc[len(df)] = [event,statistics,p_value,alfa,p1,n1,p2,n2,decision,\\\n",
    "                           str(group_1)+\" vs \"+str(group_2)]\n",
    "        \n",
    "    return df"
   ]
  },
  {
   "cell_type": "markdown",
   "id": "2a31a86e-1cf4-404c-9615-400d4a264563",
   "metadata": {},
   "source": [
    "**Probaremos la hipótesis siguiente para cada tipo de evento:**\n",
    "\n",
    "- Hipótesis nula: la proporción de usuarios convertidos en los grupos comparados es el mismo.\n",
    "\n",
    "- Hipótesis alternativa: la proporción de usuarios convertidos en los grupos comparados no es el mismo.\n",
    "\n",
    "\n",
    "Ya que vamos a comparar la proporción entre dos poblaciones, usaremos la prueba estadística `'Z para dos proporciones'` (**stats.proportions_ztest**) con un nivel **alpha=0.05** de significancia."
   ]
  },
  {
   "cell_type": "code",
   "execution_count": 102,
   "id": "1494e895-cb05-44b1-a053-5755b70962c9",
   "metadata": {},
   "outputs": [
    {
     "data": {
      "text/html": [
       "<div>\n",
       "<style scoped>\n",
       "    .dataframe tbody tr th:only-of-type {\n",
       "        vertical-align: middle;\n",
       "    }\n",
       "\n",
       "    .dataframe tbody tr th {\n",
       "        vertical-align: top;\n",
       "    }\n",
       "\n",
       "    .dataframe thead th {\n",
       "        text-align: right;\n",
       "    }\n",
       "</style>\n",
       "<table border=\"1\" class=\"dataframe\">\n",
       "  <thead>\n",
       "    <tr style=\"text-align: right;\">\n",
       "      <th></th>\n",
       "      <th>event_name</th>\n",
       "      <th>statistics-z</th>\n",
       "      <th>p_value</th>\n",
       "      <th>alfa</th>\n",
       "      <th>p1</th>\n",
       "      <th>n_group_1</th>\n",
       "      <th>p2</th>\n",
       "      <th>n_group_2</th>\n",
       "      <th>decision_H0</th>\n",
       "      <th>grupos_comparados</th>\n",
       "    </tr>\n",
       "  </thead>\n",
       "  <tbody>\n",
       "    <tr>\n",
       "      <th>0</th>\n",
       "      <td>product_page</td>\n",
       "      <td>4.218641</td>\n",
       "      <td>0.000025</td>\n",
       "      <td>0.05</td>\n",
       "      <td>0.652398</td>\n",
       "      <td>1939</td>\n",
       "      <td>0.560305</td>\n",
       "      <td>655</td>\n",
       "      <td>Rechazar H0</td>\n",
       "      <td>A vs B</td>\n",
       "    </tr>\n",
       "    <tr>\n",
       "      <th>1</th>\n",
       "      <td>product_cart</td>\n",
       "      <td>1.105384</td>\n",
       "      <td>0.268993</td>\n",
       "      <td>0.05</td>\n",
       "      <td>0.303765</td>\n",
       "      <td>1939</td>\n",
       "      <td>0.280916</td>\n",
       "      <td>655</td>\n",
       "      <td>No rechazar H0</td>\n",
       "      <td>A vs B</td>\n",
       "    </tr>\n",
       "    <tr>\n",
       "      <th>2</th>\n",
       "      <td>purchase</td>\n",
       "      <td>1.174092</td>\n",
       "      <td>0.240358</td>\n",
       "      <td>0.05</td>\n",
       "      <td>0.316142</td>\n",
       "      <td>1939</td>\n",
       "      <td>0.291603</td>\n",
       "      <td>655</td>\n",
       "      <td>No rechazar H0</td>\n",
       "      <td>A vs B</td>\n",
       "    </tr>\n",
       "  </tbody>\n",
       "</table>\n",
       "</div>"
      ],
      "text/plain": [
       "     event_name  statistics-z   p_value  alfa        p1 n_group_1        p2  \\\n",
       "0  product_page      4.218641  0.000025  0.05  0.652398      1939  0.560305   \n",
       "1  product_cart      1.105384  0.268993  0.05  0.303765      1939  0.280916   \n",
       "2      purchase      1.174092  0.240358  0.05  0.316142      1939  0.291603   \n",
       "\n",
       "  n_group_2     decision_H0 grupos_comparados  \n",
       "0       655     Rechazar H0            A vs B  \n",
       "1       655  No rechazar H0            A vs B  \n",
       "2       655  No rechazar H0            A vs B  "
      ]
     },
     "execution_count": 102,
     "metadata": {},
     "output_type": "execute_result"
    }
   ],
   "source": [
    "# aplicamos la funcion para realizar las pruebas z-test sobre los eventos y grupos de control\n",
    "ztest_comparation(data=ab_events_users_groups_eu,group_1='A',group_2='B',alfa=0.05,eventos=eventos)"
   ]
  },
  {
   "cell_type": "markdown",
   "id": "572705b8-b302-443d-8ced-88380414997d",
   "metadata": {},
   "source": [
    "Notamos que solo el evento `'product_page'` muestra significancia estadística, lo que nos lleva a rechazar la hipótesis nula de que la proporción de usuarios convertidos es el mismo entre los grupos comparados. Coincidiendo esto mismo con los resultados de la prueba `'t-test'`, usando un valor alfa de 5%.  \n",
    "Según los resultados de las pruebas hay diferencias significativas para la conversión en las vistas de la página del producto. Nuevamente la proporción es vistas es mayor para el grupo de control."
   ]
  },
  {
   "cell_type": "markdown",
   "id": "9d40ec31-f12d-459a-8620-97172e0a38e0",
   "metadata": {},
   "source": [
    "[Volver a contenidos](#contenidos)\n",
    "## Conclusiones"
   ]
  },
  {
   "cell_type": "markdown",
   "id": "7ae25568-ee32-4dcb-a628-13521eab1f76",
   "metadata": {},
   "source": [
    "El evento `'product_page'` presenta diferencias estadísticas significativas y dado el valor de **p1** que muestra, al parecer la proporción es mayor **a favor del grupo A.** Esto pueda deberse al tamaño de muestra con el que se cuenta ya que inicialmente se tenían contemplados seis mil usuarios participantes y en los datos solo contamos con 2,594 apenas un 43% de lo planeado. **Además, tenemos 1,939 usuarios del grupo A y solo 655 para el grupo B,** casi 3 veces menos usuarios en el grupo B comparado al grupo A."
   ]
  }
 ],
 "metadata": {
  "kernelspec": {
   "display_name": "Python 3 (ipykernel)",
   "language": "python",
   "name": "python3"
  },
  "language_info": {
   "codemirror_mode": {
    "name": "ipython",
    "version": 3
   },
   "file_extension": ".py",
   "mimetype": "text/x-python",
   "name": "python",
   "nbconvert_exporter": "python",
   "pygments_lexer": "ipython3",
   "version": "3.9.5"
  },
  "toc": {
   "base_numbering": 1,
   "nav_menu": {},
   "number_sections": true,
   "sideBar": true,
   "skip_h1_title": true,
   "title_cell": "Tabla de Contenidos",
   "title_sidebar": "Contenidos",
   "toc_cell": true,
   "toc_position": {
    "height": "calc(100% - 180px)",
    "left": "10px",
    "top": "150px",
    "width": "261.611px"
   },
   "toc_section_display": true,
   "toc_window_display": false
  },
  "toc-autonumbering": false,
  "toc-showcode": false,
  "toc-showmarkdowntxt": false,
  "toc-showtags": false,
  "varInspector": {
   "cols": {
    "lenName": 16,
    "lenType": 16,
    "lenVar": 40
   },
   "kernels_config": {
    "python": {
     "delete_cmd_postfix": "",
     "delete_cmd_prefix": "del ",
     "library": "var_list.py",
     "varRefreshCmd": "print(var_dic_list())"
    },
    "r": {
     "delete_cmd_postfix": ") ",
     "delete_cmd_prefix": "rm(",
     "library": "var_list.r",
     "varRefreshCmd": "cat(var_dic_list()) "
    }
   },
   "types_to_exclude": [
    "module",
    "function",
    "builtin_function_or_method",
    "instance",
    "_Feature"
   ],
   "window_display": false
  },
  "widgets": {
   "application/vnd.jupyter.widget-state+json": {
    "state": {},
    "version_major": 2,
    "version_minor": 0
   }
  }
 },
 "nbformat": 4,
 "nbformat_minor": 5
}
